{
 "cells": [
  {
   "cell_type": "markdown",
   "metadata": {},
   "source": [
    "# What is the True Normal Human Body Temperature? \n",
    "\n",
    "#### Background\n",
    "\n",
    "The mean normal body temperature was held to be 37$^{\\circ}$C or 98.6$^{\\circ}$F for more than 120 years since it was first conceptualized and reported by Carl Wunderlich in a famous 1868 book. But, is this value statistically correct?"
   ]
  },
  {
   "cell_type": "markdown",
   "metadata": {},
   "source": [
    "<h3>Exercises</h3>\n",
    "\n",
    "<p>In this exercise, you will analyze a dataset of human body temperatures and employ the concepts of hypothesis testing, confidence intervals, and statistical significance.</p>\n",
    "\n",
    "<p>Answer the following questions <b>in this notebook below and submit to your Github account</b>.</p> \n",
    "\n",
    "<ol>\n",
    "<li>  Is the distribution of body temperatures normal? \n",
    "    <ul>\n",
    "    <li> Although this is not a requirement for CLT to hold (read CLT carefully), it gives us some peace of mind that the population may also be normally distributed if we assume that this sample is representative of the population.\n",
    "    </ul>\n",
    "<li>  Is the sample size large? Are the observations independent?\n",
    "    <ul>\n",
    "    <li> Remember that this is a condition for the CLT, and hence the statistical tests we are using, to apply.\n",
    "    </ul>\n",
    "<li>  Is the true population mean really 98.6 degrees F?\n",
    "    <ul>\n",
    "    <li> Would you use a one-sample or two-sample test? Why?\n",
    "    <li> In this situation, is it appropriate to use the $t$ or $z$ statistic? \n",
    "    <li> Now try using the other test. How is the result be different? Why?\n",
    "    </ul>\n",
    "<li>  Draw a small sample of size 10 from the data and repeat both tests. \n",
    "    <ul>\n",
    "    <li> Which one is the correct one to use? \n",
    "    <li> What do you notice? What does this tell you about the difference in application of the $t$ and $z$ statistic?\n",
    "    </ul>\n",
    "<li>  At what temperature should we consider someone's temperature to be \"abnormal\"?\n",
    "    <ul>\n",
    "    <li> Start by computing the margin of error and confidence interval.\n",
    "    </ul>\n",
    "<li>  Is there a significant difference between males and females in normal temperature?\n",
    "    <ul>\n",
    "    <li> What test did you use and why?\n",
    "    <li> Write a story with your conclusion in the context of the original problem.\n",
    "    </ul>\n",
    "</ol>\n",
    "\n",
    "You can include written notes in notebook cells using Markdown: \n",
    "   - In the control panel at the top, choose Cell > Cell Type > Markdown\n",
    "   - Markdown syntax: http://nestacms.com/docs/creating-content/markdown-cheat-sheet\n",
    "\n",
    "#### Resources\n",
    "\n",
    "+ Information and data sources: http://www.amstat.org/publications/jse/datasets/normtemp.txt, http://www.amstat.org/publications/jse/jse_data_archive.htm\n",
    "+ Markdown syntax: http://nestacms.com/docs/creating-content/markdown-cheat-sheet\n",
    "\n",
    "****"
   ]
  },
  {
   "cell_type": "code",
   "execution_count": 50,
   "metadata": {
    "collapsed": true
   },
   "outputs": [],
   "source": [
    "import pandas as pd\n",
    "import matplotlib.pyplot as plt\n",
    "\n",
    "df = pd.read_csv('data/human_body_temperature.csv')"
   ]
  },
  {
   "cell_type": "code",
   "execution_count": 51,
   "metadata": {
    "scrolled": false
   },
   "outputs": [
    {
     "name": "stdout",
     "output_type": "stream",
     "text": [
      "   temperature gender  heart_rate\n",
      "0         99.3      F        68.0\n",
      "1         98.4      F        81.0\n",
      "2         97.8      M        73.0\n",
      "3         99.2      F        66.0\n",
      "4         98.0      F        73.0\n",
      "\n",
      "This is a histogram of samples of body temperatures:\n",
      "\n"
     ]
    },
    {
     "data": {
      "text/plain": [
       "<matplotlib.figure.Figure at 0x17fe99ace80>"
      ]
     },
     "metadata": {},
     "output_type": "display_data"
    },
    {
     "data": {
      "image/png": "[encoded data removed]",
      "text/plain": [
       "<matplotlib.figure.Figure at 0x17fe9e8b6d8>"
      ]
     },
     "metadata": {},
     "output_type": "display_data"
    },
    {
     "name": "stdout",
     "output_type": "stream",
     "text": [
      "\n",
      "This is a descriptive statistics summary of dataframe:\n",
      "\n",
      "       temperature  heart_rate\n",
      "count   130.000000  130.000000\n",
      "mean     98.249231   73.761538\n",
      "std       0.733183    7.062077\n",
      "min      96.300000   57.000000\n",
      "25%      97.800000   69.000000\n",
      "50%      98.300000   74.000000\n",
      "75%      98.700000   79.000000\n",
      "max     100.800000   89.000000\n"
     ]
    }
   ],
   "source": [
    "# Your work here.\n",
    "\n",
    "#1) Is the distribution of body temperatures normal? \n",
    "\n",
    "print(df.head())\n",
    "\n",
    "#a) Plotting histogram of sample to visualize distribution\n",
    "plt.figure()\n",
    "\n",
    "print(\"\\nThis is a histogram of samples of body temperatures:\\n\")\n",
    "df.plot(kind='hist', y='temperature', bins=7)\n",
    "plt.xlabel( \"Body Temperature (∘F)\")\n",
    "plt.show()\n",
    "\n",
    "#b) Looking at descriptive statistics to verify if sample follows normal distribution. \n",
    "print(\"\\nThis is a descriptive statistics summary of dataframe:\\n\")\n",
    "print(df.describe())\n",
    "\n",
    "    # After comparing the median and the mode (mean approx. equal to median) \n",
    "    # we can say that this sample reflects a normal distribution"
   ]
  },
  {
   "cell_type": "code",
   "execution_count": 52,
   "metadata": {
    "collapsed": true
   },
   "outputs": [],
   "source": [
    "#2) Is the sample size large? Are the observations independent? \n",
    "\n",
    "#According to the Central Limit Theorem, a sample size > 30 is sufficient. Current sample size is 130.\n",
    "\n"
   ]
  },
  {
   "cell_type": "code",
   "execution_count": 53,
   "metadata": {},
   "outputs": [
    {
     "name": "stdout",
     "output_type": "stream",
     "text": [
      "The Z-statistics is : 5.45482329236\n",
      "The P-value for Z-test is: 2.45107850706e-08\n",
      "For a 0.997 confidence interval the corresponding alpha is 0.0015000000000000013\n",
      "\n",
      "Because P-value is less than alpha (we are in rejection zone), we can reject null hypothesis.\n",
      "This tells us that the population mean body temp is not 98.6\n"
     ]
    }
   ],
   "source": [
    "#3) Is the true population mean really 98.6 degrees F?\n",
    "#3-a) Would you use a one-sample or two-sample test? Why?\n",
    "\n",
    "    # I would use a one sample test, becuase this will allow us to determine whether our sample mean is statistically\n",
    "    # significantly different to the population mean.\n",
    "\n",
    "#3-b) In this situation, is it appropriate to use the t or z statistic?\n",
    "\n",
    "    # It is more appropriate to use the z-statistic since sample size >30\n",
    "\n",
    "#3-c) Now try using the other test. How is the result be different? Why? \n",
    "    # The results are the same becuase for large samples sizes, the t-distrbution more closely models Normal distribution.\n",
    "\n",
    "#____________________________________________________________________________\n",
    "\n",
    "#3-b) Using Z-test to determine if the true population mean really is 98.6 degrees fahrenheit\n",
    "#Null Hypothesis: The population mean is 98.6 F ( mu = 98.6)\n",
    "#Alt Hypothesis (What do you want to test?): The population mean is not equal to 98.6 (mu !=98.6)\n",
    "\n",
    "\n",
    "#1) Using Z-test to check hypothesis\n",
    "import numpy as np\n",
    "from scipy import stats\n",
    "\n",
    "pop_mean = 98.6\n",
    "samp_mean = df.temperature.mean()\n",
    "samp_stdev = df.temperature.std()/np.sqrt(len(df.temperature))\n",
    "\n",
    "#calculating Z-statistic\n",
    "z_stat = (pop_mean - samp_mean)/samp_stdev\n",
    "print( \"The Z-statistics is :\", z_stat)\n",
    "\n",
    "#Calculating p-value\n",
    "p_val_ztest = stats.norm.cdf(-z_stat) #calculates area under cdf from left up until -5.45\n",
    "\n",
    "print(\"The P-value for Z-test is:\", p_val_ztest)\n",
    "\n",
    "# using a confidence interval of 99.7 with alpha =.3/2=.015, we see that the \n",
    "# p_value is less then alpha, therefore we must reject the null hypothesis\n",
    "\n",
    "confidence_interval = .997\n",
    "alpha = (1-confidence_interval)/2# two sided test\n",
    "\n",
    "print(\"For a {} confidence interval the corresponding alpha is {}\".format(confidence_interval, alpha))\n",
    "print(\"\\nBecause P-value is less than alpha (we are in rejection zone), we can reject null hypothesis.\")\n",
    "print(\"This tells us that the population mean body temp is not 98.6\")\n",
    "\n",
    "# #99.7 confidence interval values\n",
    "# #computing 99.7% confidence interval values\n",
    "# confid_interval_vals = np.percentile(df.temperature, [0,99.7])\n",
    "# print(confid_interval_vals)\n",
    "\n",
    "#2) Using one-sample T-Test to check hypothesis\n",
    "t = stats.ttest_1samp(df.temperature,pop_mean)\n",
    "\n",
    "#using the one sample T-Test we also get the same result -- must reject the null hypothesis\n",
    "\n"
   ]
  },
  {
   "cell_type": "code",
   "execution_count": 54,
   "metadata": {},
   "outputs": [
    {
     "name": "stdout",
     "output_type": "stream",
     "text": [
      "Resampled array: [ 98.   98.8  97.8  97.   97.7  98.3  98.   97.9  99.   98. ]\n",
      "Bootstrap replicate mean 98.05\n",
      "Bootstrap replicate standard dev: 0.533385414124\n",
      "Results of the T-test on resampled data:\n",
      " Ttest_1sampResult(statistic=-3.0934479202257976, pvalue=0.012857704604809363)\n",
      "\n",
      "For a 0.997 confidence interval the corresponding alpha is 0.0015000000000000013\n",
      "\n",
      "Because P-value is greater than alpha (we are in confidence zone), we fail to reject null hypothesis.\n",
      "This tells us that the population mean body temp is  98.6\n",
      "\n",
      "\n",
      "This is the Z-statistic for resampled array: 1.45826533443\n",
      "The P-value for the resampled array is: 0.0723837106926\n",
      "\n",
      "Because the P-value is > than alpha for 99.7 confidence interval, we fail to reject the null hypothesis \n"
     ]
    }
   ],
   "source": [
    "#4) Draw a small sample of size 10 from the data and repeat both tests.\n",
    "#4-a) Which one is the correct one to use?\n",
    "    #The correst test to use is T-test since samples < 30\n",
    "#4-b) What do you notice? What does this tell you about the difference in application of the tt and zz statistic? \n",
    "    # Using a sample size of 10, we find that both methods fail to reject the null hypothesis. Once difference between\n",
    "    # the two is that the P-value using the Z-test is about 6 times larger than P-value for the T-test,\n",
    "    # lower the stringency for the extreme value appearing in the rejection zone.  \n",
    "#___________________________________________________________________________________________________________________\n",
    "\n",
    "#1) Resampling data to draw a sample size of 10 for entire set of sample data with replacement and Bootstrapping to find sample mean\n",
    "np.random.seed(42)\n",
    "# drawing random sample with 10 subsamples\n",
    "resamp_bod_temp = np.random.choice(df.temperature, size=10)\n",
    "print(\"Resampled array:\", resamp_bod_temp)\n",
    "\n",
    "#Computing bootstrap replicates of resampled data\n",
    "resamp_bod_temp_mean = np.mean(resamp_bod_temp)\n",
    "print(\"Bootstrap replicate mean\", resamp_bod_temp_mean)\n",
    "\n",
    "resamp_bod_temp_stdev =  np.std(resamp_bod_temp)\n",
    "print(\"Bootstrap replicate standard dev:\", resamp_bod_temp_stdev)\n",
    "\n",
    "#2) Using T-test\n",
    "t_test_resampled = stats.ttest_1samp(resamp_bod_temp, pop_mean)\n",
    "print(\"Results of the T-test on resampled data:\\n\", t_test_resampled)\n",
    "print(\"\\nFor a {} confidence interval the corresponding alpha is {}\".format(confidence_interval, alpha))\n",
    "print(\"\\nBecause P-value is greater than alpha (we are in confidence zone), we fail to reject null hypothesis.\")\n",
    "print(\"This tells us that the population mean body temp is  98.6\")\n",
    "\n",
    "#3) Using Z-test\n",
    "#Calculating Z-statistic\n",
    "\n",
    "z_stat_resamp = (pop_mean - resamp_bod_temp_mean)/(resamp_bod_temp_stdev/np.sqrt(len(t_test_resampled)))\n",
    "print(\"\\n\\nThis is the Z-statistic for resampled array:\", z_stat_resamp)\n",
    "\n",
    "#Using Z-statistic (+- 1.45 ) to calculate alpha (i.e., the rejection zone)\n",
    "p_val_ztest_resamp = stats.norm.cdf(-z_stat_resamp)\n",
    "print(\"The P-value for the resampled array is:\", p_val_ztest_resamp)\n",
    "print(\"\\nBecause the P-value is > than alpha for 99.7 confidence interval, we fail to reject the null hypothesis \")\n",
    "\n"
   ]
  },
  {
   "cell_type": "code",
   "execution_count": 55,
   "metadata": {},
   "outputs": [
    {
     "name": "stdout",
     "output_type": "stream",
     "text": [
      "For a 99.7 confidence interval we would expect see Body temp values within this range: [  96.3387  100.8   ]\n",
      "This tells us that approximately .15% of the time we would expect a body temperature greater than 100.8 and less than 96.3\n"
     ]
    }
   ],
   "source": [
    "#5) At what temperature should we consider someone's temperature to be \"abnormal\"?\n",
    "#Start by computing the margin of error and confidence interval. \n",
    "\n",
    "#Computing values that fall within 99.7 perecent confidence interval\n",
    "confid_interv = np.percentile(df.temperature, [.3,100])\n",
    "\n",
    "print(\"For a 99.7 confidence interval we would expect see Body temp values within this range:\", confid_interv)\n",
    "print(\"This tells us that approximately .15% of the time we would expect a body temperature\\\n",
    " greater than 100.8 and less than 96.3\")"
   ]
  },
  {
   "cell_type": "code",
   "execution_count": 56,
   "metadata": {},
   "outputs": [
    {
     "name": "stdout",
     "output_type": "stream",
     "text": [
      "The average male body temperature is: 98.1046153846154\n",
      "The average female body temperature is 98.39384615384613\n"
     ]
    },
    {
     "data": {
      "text/plain": [
       "Ttest_indResult(statistic=-2.2854345381656103, pvalue=0.023931883122395609)"
      ]
     },
     "execution_count": 56,
     "metadata": {},
     "output_type": "execute_result"
    }
   ],
   "source": [
    "#6) Is there a significant difference between males and females in normal temperature?\n",
    "\n",
    "#     What test did you use and why?\n",
    "#     Write a story with your conclusion in the context of the original problem. \n",
    "\n",
    "#Computing average of Male and female body temps seperately\n",
    "male_temp = df.temperature[df[\"gender\"]=='M']\n",
    "female_temp= df.temperature[df[\"gender\"]==\"F\"]\n",
    "\n",
    "print(\"The average male body temperature is:\", male_temp.mean())\n",
    "print(\"The average female body temperature is\", female_temp.mean())\n",
    "\n",
    "\n",
    "#Performing two sided T-test for two independent samples\n",
    "\n",
    "#Null Hypothesis: Male and Female avg body temps are equal\n",
    "#Alternative Hypothesis: Male and Female avg body temps are not equal\n",
    "\n",
    "stats.ttest_ind(male_temp, female_temp)\n",
    "\n",
    "## For a two tailed test with a confidence of 99.7, we find that we fail to reject the null hypothesis.\n",
    "\n",
    "## For a two tailed test with a confidence of 95 %, we find that the P-value is less than alpha/2,\n",
    "## and are able to reject the null hypothesis confirming that avg male and female body temps arent equal. "
   ]
  },
  {
   "cell_type": "markdown",
   "metadata": {},
   "source": [
    "# Conclusion\n",
    "\n",
    "It was found that the distribution of body temperatures are in fact distributed normally because the sample mean (98.24) is approximately equal to median (98.3) sample body temperature.  From using a two tailed Z-test with a 99.7% confidence it was found that the true population mean is not 98.6 (the P-value < alpha/2). After resampling the body temperatrue data to a sample with 10 observations and performing a T-test with a 99.7% confidence it was found that we were unable to reject the null hypothesis (since P-value>alpha/2). Determing the values for a 99.7% confidence interval, we saw that approximately .15% of the time we would expect a body temperature greater than 100.8 and less than 96.3. These body temperatures would be considered 'abnormal'. Using a independent T-test and a 95% confidence interval it was concluded that the average male and female body temps are not the same due the T-test P-value being less than alpha/2. \n",
    "\n",
    "\n",
    "\n",
    "\n"
   ]
  },
  {
   "cell_type": "code",
   "execution_count": null,
   "metadata": {
    "collapsed": true
   },
   "outputs": [],
   "source": []
  }
 ],
 "metadata": {
  "kernelspec": {
   "display_name": "Python 3",
   "language": "python",
   "name": "python3"
  },
  "language_info": {
   "codemirror_mode": {
    "name": "ipython",
    "version": 3
   },
   "file_extension": ".py",
   "mimetype": "text/x-python",
   "name": "python",
   "nbconvert_exporter": "python",
   "pygments_lexer": "ipython3",
   "version": "3.6.3"
  }
 },
 "nbformat": 4,
 "nbformat_minor": 1
}
